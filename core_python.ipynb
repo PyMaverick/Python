{
 "cells": [
  {
   "cell_type": "markdown",
   "metadata": {},
   "source": [
    "# Python getting started with"
   ]
  },
  {
   "cell_type": "markdown",
   "metadata": {},
   "source": [
    "## Types of data type : Int , float, str , list, tuple ,dictionary, array\n",
    "\n",
    "## 1) Int : It stands for integer which contains all integers such as 1,2,3,4,5...\n",
    "\n",
    "## 2) Float : It stands for float value which contains all decimals such as 1.1, 4.0, 3.5..\n",
    "\n",
    "## 3) Str: It stands for string value such as name, character, alpahabets eg:'hello', 'abcd' ,\"xyz\". To define string we can use single quotes (' ') or double quotes (\" \")\n",
    "\n",
    "## Variables are used to define any datatype and we can see an example below"
   ]
  },
  {
   "cell_type": "code",
   "execution_count": 186,
   "metadata": {},
   "outputs": [
    {
     "name": "stdout",
     "output_type": "stream",
     "text": [
      "Variable a is integer having value: 10 Variable b is float having value 10.5 Variable c is string having value hello\n"
     ]
    }
   ],
   "source": [
    "a = 10\n",
    "b = 10.5\n",
    "c = 'hello'\n",
    "d = \"hello\"\n",
    "print(\"Variable a is integer having value:\",a,\"Variable b is float having value\",b,\"Variable c is string having value\",c)"
   ]
  },
  {
   "cell_type": "code",
   "execution_count": 1,
   "metadata": {},
   "outputs": [
    {
     "name": "stdout",
     "output_type": "stream",
     "text": [
      "hello world\n",
      "hello\n",
      "world\n"
     ]
    }
   ],
   "source": [
    "print('hello world')\n",
    "print('hello')\n",
    "print('world') "
   ]
  },
  {
   "cell_type": "code",
   "execution_count": 3,
   "metadata": {},
   "outputs": [
    {
     "name": "stdout",
     "output_type": "stream",
     "text": [
      "hello\n",
      "world\n"
     ]
    }
   ],
   "source": [
    "print(\"hello\\nworld\") # \\n is used for new line"
   ]
  },
  {
   "cell_type": "markdown",
   "metadata": {},
   "source": [
    "## If you want to check the type of datatype :"
   ]
  },
  {
   "cell_type": "code",
   "execution_count": 18,
   "metadata": {},
   "outputs": [
    {
     "data": {
      "text/plain": [
       "int"
      ]
     },
     "execution_count": 18,
     "metadata": {},
     "output_type": "execute_result"
    }
   ],
   "source": [
    "type(a) "
   ]
  },
  {
   "cell_type": "code",
   "execution_count": 19,
   "metadata": {},
   "outputs": [
    {
     "data": {
      "text/plain": [
       "float"
      ]
     },
     "execution_count": 19,
     "metadata": {},
     "output_type": "execute_result"
    }
   ],
   "source": [
    "type(b)"
   ]
  },
  {
   "cell_type": "code",
   "execution_count": 20,
   "metadata": {},
   "outputs": [
    {
     "data": {
      "text/plain": [
       "str"
      ]
     },
     "execution_count": 20,
     "metadata": {},
     "output_type": "execute_result"
    }
   ],
   "source": [
    "type(c)"
   ]
  },
  {
   "cell_type": "markdown",
   "metadata": {},
   "source": [
    "## It is simple but now if you want two different print statements in single line than use end keyword "
   ]
  },
  {
   "cell_type": "code",
   "execution_count": 11,
   "metadata": {},
   "outputs": [
    {
     "name": "stdout",
     "output_type": "stream",
     "text": [
      "hello\n",
      "world\n"
     ]
    }
   ],
   "source": [
    "print('hello')\n",
    "print('world')          "
   ]
  },
  {
   "cell_type": "code",
   "execution_count": 9,
   "metadata": {},
   "outputs": [
    {
     "name": "stdout",
     "output_type": "stream",
     "text": [
      "xyz hello world\n"
     ]
    }
   ],
   "source": [
    "print('xyz',end=' ')\n",
    "print('hello',end = ' ') # end keyword will not allow you to go to next line\n",
    "print('world') \n",
    "# print('abcd')"
   ]
  },
  {
   "cell_type": "code",
   "execution_count": 25,
   "metadata": {},
   "outputs": [
    {
     "name": "stdout",
     "output_type": "stream",
     "text": [
      "hello+world\n"
     ]
    }
   ],
   "source": [
    "print('hello',end = \"+\")\n",
    "print('world') "
   ]
  },
  {
   "cell_type": "markdown",
   "metadata": {},
   "source": [
    "## Example of basic calculator :\n"
   ]
  },
  {
   "cell_type": "code",
   "execution_count": 12,
   "metadata": {},
   "outputs": [
    {
     "data": {
      "text/plain": [
       "16"
      ]
     },
     "execution_count": 12,
     "metadata": {},
     "output_type": "execute_result"
    }
   ],
   "source": [
    "a = 2\n",
    "b = 4\n",
    "c = a ** b\n",
    "c"
   ]
  },
  {
   "cell_type": "code",
   "execution_count": 11,
   "metadata": {},
   "outputs": [
    {
     "data": {
      "text/plain": [
       "1962.5"
      ]
     },
     "execution_count": 11,
     "metadata": {},
     "output_type": "execute_result"
    }
   ],
   "source": [
    "pie = 3.14\n",
    "r = 5\n",
    "area_of_circle = pie * (r ** 4)\n",
    "area_of_circle"
   ]
  },
  {
   "cell_type": "code",
   "execution_count": 37,
   "metadata": {},
   "outputs": [
    {
     "name": "stdout",
     "output_type": "stream",
     "text": [
      "Addition is 30 \n",
      "Subtraction is 10 \n",
      "Multiplication is 200 \n",
      "Division is 2.0\n"
     ]
    }
   ],
   "source": [
    "a = 20\n",
    "b = 10\n",
    "add = a + b\n",
    "sub = a - b\n",
    "mul = a * b\n",
    "div = a / b\n",
    "print(\"Addition is\",add,\"\\nSubtraction is\",sub,\"\\nMultiplication is\",mul,\"\\nDivision is\",div)"
   ]
  },
  {
   "cell_type": "markdown",
   "metadata": {},
   "source": [
    "## Taking user defined value:"
   ]
  },
  {
   "cell_type": "code",
   "execution_count": 13,
   "metadata": {},
   "outputs": [
    {
     "name": "stdout",
     "output_type": "stream",
     "text": [
      "Enter number 15\n",
      "Entered number is:  15\n"
     ]
    }
   ],
   "source": [
    "a = int(input(\"Enter number \"))\n",
    "print(\"Entered number is: \",a)"
   ]
  },
  {
   "cell_type": "code",
   "execution_count": 14,
   "metadata": {},
   "outputs": [
    {
     "name": "stdout",
     "output_type": "stream",
     "text": [
      "Enter number 5.5\n",
      "Entered number is:  5.5\n"
     ]
    }
   ],
   "source": [
    "b = float(input(\"Enter number \"))\n",
    "print(\"Entered number is: \",b)"
   ]
  },
  {
   "cell_type": "code",
   "execution_count": 15,
   "metadata": {},
   "outputs": [
    {
     "name": "stdout",
     "output_type": "stream",
     "text": [
      "Enter country India\n",
      "Entered country is:  India\n"
     ]
    }
   ],
   "source": [
    "c = str(input('Enter country '))\n",
    "print(\"Entered country is: \",c)"
   ]
  },
  {
   "cell_type": "code",
   "execution_count": 44,
   "metadata": {},
   "outputs": [
    {
     "name": "stdout",
     "output_type": "stream",
     "text": [
      "1024\n"
     ]
    }
   ],
   "source": [
    "# If I want to perform 2 to the power 10 (2^10)\n",
    "r = 2 ** 10\n",
    "print(r)"
   ]
  },
  {
   "cell_type": "code",
   "execution_count": 17,
   "metadata": {},
   "outputs": [
    {
     "name": "stdout",
     "output_type": "stream",
     "text": [
      "mod is 2\n"
     ]
    }
   ],
   "source": [
    "# For getting reminder\n",
    "mod = 8 % 3\n",
    "print(\"mod is\",mod)"
   ]
  },
  {
   "cell_type": "markdown",
   "metadata": {},
   "source": [
    "## String slicing :\n"
   ]
  },
  {
   "cell_type": "code",
   "execution_count": 53,
   "metadata": {},
   "outputs": [
    {
     "name": "stdout",
     "output_type": "stream",
     "text": [
      "hello world\n"
     ]
    }
   ],
   "source": [
    "var = \"hello world\"\n",
    "print(var)"
   ]
  },
  {
   "cell_type": "code",
   "execution_count": 20,
   "metadata": {},
   "outputs": [
    {
     "name": "stdout",
     "output_type": "stream",
     "text": [
      "h\n",
      "e\n",
      "d\n",
      "l\n"
     ]
    }
   ],
   "source": [
    "print(var[0]) # It will print first index\n",
    "print(var[1]) # It will print second index\n",
    "print(var[-1]) # It will print last index\n",
    "print(var[-2]) # It will print second last index"
   ]
  },
  {
   "cell_type": "code",
   "execution_count": 21,
   "metadata": {},
   "outputs": [
    {
     "name": "stdout",
     "output_type": "stream",
     "text": [
      " \n"
     ]
    }
   ],
   "source": [
    "# 012345678910\n",
    "# hello world\n",
    "# As written above 0 tends to h 1 to e and so on here index 5 tends to white space fo eg:\n",
    "print(var[5]) # It will print white space as it is at 5th position"
   ]
  },
  {
   "cell_type": "code",
   "execution_count": 52,
   "metadata": {},
   "outputs": [
    {
     "name": "stdout",
     "output_type": "stream",
     "text": [
      "hell\n"
     ]
    }
   ],
   "source": [
    "# Now If I want to some particular string like just hell from variable var\n",
    "print(var[0:4]) # here 0 on left to : defines starting position and 4 next to : defines the end position -1"
   ]
  },
  {
   "cell_type": "code",
   "execution_count": 26,
   "metadata": {},
   "outputs": [
    {
     "name": "stdout",
     "output_type": "stream",
     "text": [
      "hello world\n"
     ]
    }
   ],
   "source": [
    "print(var[0:]) # It will go upto last"
   ]
  },
  {
   "cell_type": "code",
   "execution_count": 32,
   "metadata": {},
   "outputs": [
    {
     "name": "stdout",
     "output_type": "stream",
     "text": [
      "hello worl\n"
     ]
    }
   ],
   "source": [
    "print(var[0:-1]) # It will start from 0th position and go till last -1"
   ]
  },
  {
   "cell_type": "code",
   "execution_count": 60,
   "metadata": {},
   "outputs": [
    {
     "name": "stdout",
     "output_type": "stream",
     "text": [
      "hello world\n"
     ]
    }
   ],
   "source": [
    "print(var[0:11]) # It will print the whole string"
   ]
  },
  {
   "cell_type": "code",
   "execution_count": 62,
   "metadata": {},
   "outputs": [
    {
     "name": "stdout",
     "output_type": "stream",
     "text": [
      "hello world\n"
     ]
    }
   ],
   "source": [
    "print(var[:]) # same as above"
   ]
  },
  {
   "cell_type": "code",
   "execution_count": 55,
   "metadata": {},
   "outputs": [
    {
     "name": "stdout",
     "output_type": "stream",
     "text": [
      "hlowrd\n"
     ]
    }
   ],
   "source": [
    "print(var[0:11:2]) # It will take one alphabet and skip one and continue"
   ]
  },
  {
   "cell_type": "code",
   "execution_count": 64,
   "metadata": {},
   "outputs": [
    {
     "name": "stdout",
     "output_type": "stream",
     "text": [
      "hlowrd\n"
     ]
    }
   ],
   "source": [
    "print(var[::2]) # Same as above"
   ]
  },
  {
   "cell_type": "code",
   "execution_count": 66,
   "metadata": {},
   "outputs": [
    {
     "name": "stdout",
     "output_type": "stream",
     "text": [
      "dlrow olleh\n"
     ]
    }
   ],
   "source": [
    "print(var[::-1])# print in reverse order"
   ]
  },
  {
   "cell_type": "code",
   "execution_count": 68,
   "metadata": {},
   "outputs": [
    {
     "name": "stdout",
     "output_type": "stream",
     "text": [
      "drwolh\n"
     ]
    }
   ],
   "source": [
    "print(var[::-2])# print in reverse order with skipping one alphabet and taking the next"
   ]
  },
  {
   "cell_type": "markdown",
   "metadata": {},
   "source": [
    "## In practice take you own string and play with it using different slicing operation :)"
   ]
  },
  {
   "cell_type": "markdown",
   "metadata": {},
   "source": [
    "## Starting with loops in python :-  For loop"
   ]
  },
  {
   "cell_type": "code",
   "execution_count": null,
   "metadata": {},
   "outputs": [],
   "source": [
    "for(i=0;i<10;i++)\n",
    "{\n",
    "    print(i)\n",
    "}"
   ]
  },
  {
   "cell_type": "code",
   "execution_count": 64,
   "metadata": {},
   "outputs": [
    {
     "name": "stdout",
     "output_type": "stream",
     "text": [
      "1 2 3 4 5 6 7 8 9 10 "
     ]
    }
   ],
   "source": [
    "for i in range(1,11):\n",
    "    print(i,end= ' ')"
   ]
  },
  {
   "cell_type": "code",
   "execution_count": 70,
   "metadata": {},
   "outputs": [
    {
     "name": "stdout",
     "output_type": "stream",
     "text": [
      "0 1 2 3 4 5 6 7 8 9 "
     ]
    }
   ],
   "source": [
    "#syntax of for loops is as show below and : means indentation\n",
    "for i in range(10):          # it will start from 0 index and go upto 10-1 index so will print 0 to 9\n",
    "    print(i,end = ' ')"
   ]
  },
  {
   "cell_type": "code",
   "execution_count": 69,
   "metadata": {},
   "outputs": [
    {
     "name": "stdout",
     "output_type": "stream",
     "text": [
      "1 2 3 4 5 6 7 8 9 10 "
     ]
    }
   ],
   "source": [
    "for i in range(1,11):          # it will start from 1 index and go upto 11-1 index so will print 1 to 10\n",
    "    print(i,end = ' ')"
   ]
  },
  {
   "cell_type": "code",
   "execution_count": 71,
   "metadata": {},
   "outputs": [
    {
     "name": "stdout",
     "output_type": "stream",
     "text": [
      "1 hello 3 hello 5 hello 7 hello 9 hello world\n"
     ]
    }
   ],
   "source": [
    "for i in range(1,11,2): # it will start from 1 index and go upto 11-1 index so will print 1 to 10 and skip 1 position\n",
    "    print(i,end = ' ')\n",
    "    print('hello',end= ' ')\n",
    "print('world') "
   ]
  },
  {
   "cell_type": "code",
   "execution_count": 73,
   "metadata": {},
   "outputs": [
    {
     "name": "stdout",
     "output_type": "stream",
     "text": [
      "5 3 1 "
     ]
    }
   ],
   "source": [
    "for i in range(5,0,-2): # in reverse order it will print\n",
    "    print(i,end = ' ')"
   ]
  },
  {
   "cell_type": "code",
   "execution_count": 79,
   "metadata": {},
   "outputs": [
    {
     "name": "stdout",
     "output_type": "stream",
     "text": [
      "0 1 2 3 4 5 6 7 8 9 10 "
     ]
    }
   ],
   "source": [
    "# Example of while loop\n",
    "j=0\n",
    "while j<11:\n",
    "    print(j,end=\" \")\n",
    "    j = j + 1"
   ]
  },
  {
   "cell_type": "code",
   "execution_count": 83,
   "metadata": {},
   "outputs": [
    {
     "name": "stdout",
     "output_type": "stream",
     "text": [
      "\n",
      " * \n",
      " *  * \n",
      " *  *  * \n",
      " *  *  *  * \n"
     ]
    }
   ],
   "source": [
    "#basic pattern program\n",
    "for i in range(5):\n",
    "    for j in range(i):\n",
    "        print(\" *\",end = \" \")\n",
    "    print()"
   ]
  },
  {
   "cell_type": "code",
   "execution_count": 88,
   "metadata": {},
   "outputs": [
    {
     "name": "stdout",
     "output_type": "stream",
     "text": [
      "********\n",
      "        *  \n",
      "       * *  \n",
      "      * * *  \n",
      "     * * * *  \n",
      "    * * * * *  \n"
     ]
    }
   ],
   "source": [
    "n = 5\n",
    "m = (2 * n) - 2  \n",
    "for i in range(0, n):  \n",
    "    for j in range(0, m):  \n",
    "        print(end=\" \")  \n",
    "    m = m - 1  \n",
    "    for j in range(0, i + 1):  \n",
    "        print(\"*\", end=' ')  \n",
    "    print(\" \")  "
   ]
  },
  {
   "cell_type": "markdown",
   "metadata": {},
   "source": [
    "## If -else condition:"
   ]
  },
  {
   "cell_type": "code",
   "execution_count": 51,
   "metadata": {},
   "outputs": [
    {
     "name": "stdout",
     "output_type": "stream",
     "text": [
      "false\n"
     ]
    }
   ],
   "source": [
    "num = 5\n",
    "if (num == 10):\n",
    "    print(\"true\")\n",
    "else:\n",
    "    print('false')"
   ]
  },
  {
   "cell_type": "code",
   "execution_count": 1,
   "metadata": {},
   "outputs": [
    {
     "name": "stdout",
     "output_type": "stream",
     "text": [
      "none of above\n"
     ]
    }
   ],
   "source": [
    "num = 1\n",
    "if (num == 20):\n",
    "    print('Yes its 20')\n",
    "elif num == 10 :\n",
    "    print('Yes its 10')\n",
    "else:\n",
    "    print('none of above')"
   ]
  },
  {
   "cell_type": "code",
   "execution_count": 2,
   "metadata": {},
   "outputs": [
    {
     "name": "stdout",
     "output_type": "stream",
     "text": [
      "true\n"
     ]
    }
   ],
   "source": [
    "# and condition and or condition\n",
    "n = 20\n",
    "if n == 10 or n == 20:\n",
    "    print('true')\n",
    "else:\n",
    "    print('false')"
   ]
  },
  {
   "cell_type": "code",
   "execution_count": 100,
   "metadata": {},
   "outputs": [
    {
     "name": "stdout",
     "output_type": "stream",
     "text": [
      "true\n"
     ]
    }
   ],
   "source": [
    "# and condition and or condition\n",
    "n = 20\n",
    "m = 20\n",
    "if n == 20 and m == 30:\n",
    "    print('true')\n",
    "else:\n",
    "    print('false')"
   ]
  },
  {
   "cell_type": "markdown",
   "metadata": {},
   "source": [
    "## Introduction to list and tuples:\n"
   ]
  },
  {
   "cell_type": "code",
   "execution_count": 59,
   "metadata": {
    "scrolled": false
   },
   "outputs": [
    {
     "name": "stdout",
     "output_type": "stream",
     "text": [
      "list [1, 2, 3, 4, 5]\n",
      "tuple (9, 8, 7, 6, 5)\n"
     ]
    }
   ],
   "source": [
    "#List can be defined as [] and tuples as ()\n",
    "l = [1,2,3,4,5] # It is list\n",
    "t = (9,8,7,6,5) # It is tuple\n",
    "print('list',l)\n",
    "print('tuple',t)"
   ]
  },
  {
   "cell_type": "code",
   "execution_count": 60,
   "metadata": {},
   "outputs": [
    {
     "data": {
      "text/plain": [
       "list"
      ]
     },
     "execution_count": 60,
     "metadata": {},
     "output_type": "execute_result"
    }
   ],
   "source": [
    "type(l)"
   ]
  },
  {
   "cell_type": "code",
   "execution_count": 61,
   "metadata": {},
   "outputs": [
    {
     "data": {
      "text/plain": [
       "tuple"
      ]
     },
     "execution_count": 61,
     "metadata": {},
     "output_type": "execute_result"
    }
   ],
   "source": [
    "type(t)"
   ]
  },
  {
   "cell_type": "code",
   "execution_count": 30,
   "metadata": {},
   "outputs": [
    {
     "name": "stdout",
     "output_type": "stream",
     "text": [
      "[1, 2, 3, 5.5, 'hello', 9.7, 'abcd']\n"
     ]
    }
   ],
   "source": [
    "# List and tuple are not just limited to integer, we can add decimal as well as string value inside it\n",
    "ls = [1,2,3,5.5,\"hello\",9.7,\"abcd\"]\n",
    "print(ls)"
   ]
  },
  {
   "cell_type": "code",
   "execution_count": 10,
   "metadata": {},
   "outputs": [
    {
     "data": {
      "text/plain": [
       "[3, 5.5]"
      ]
     },
     "execution_count": 10,
     "metadata": {},
     "output_type": "execute_result"
    }
   ],
   "source": [
    "ls[2:4]"
   ]
  },
  {
   "cell_type": "code",
   "execution_count": 42,
   "metadata": {},
   "outputs": [
    {
     "name": "stdout",
     "output_type": "stream",
     "text": [
      "[0, 1, 2, 3, 4, 5, 0, 6]\n"
     ]
    }
   ],
   "source": [
    "#List is mutable wheras tuple is immutable\n",
    "# In list we can perform operation such as insert/append as well as pop/remove, meanwhile is is not possible in tuple\n",
    "l = [0,1,2,3,4,5,0]\n",
    "l.append(6) #It will append 6 to last position\n",
    "print(l)"
   ]
  },
  {
   "cell_type": "code",
   "execution_count": 137,
   "metadata": {},
   "outputs": [
    {
     "data": {
      "text/plain": [
       "[0, 1, 2, 3]"
      ]
     },
     "execution_count": 137,
     "metadata": {},
     "output_type": "execute_result"
    }
   ],
   "source": [
    "l[0:4]"
   ]
  },
  {
   "cell_type": "code",
   "execution_count": 43,
   "metadata": {},
   "outputs": [
    {
     "name": "stdout",
     "output_type": "stream",
     "text": [
      "[0, 1, 2, 'hello', 3, 4, 5, 0, 6]\n"
     ]
    }
   ],
   "source": [
    "l.insert(3,\"hello\") # On 3rd position it will insert 0\n",
    "print(l)"
   ]
  },
  {
   "cell_type": "code",
   "execution_count": 39,
   "metadata": {},
   "outputs": [
    {
     "data": {
      "text/plain": [
       "[0, 1, 2, 'hello', 3, 4, 5, 0, 6]"
      ]
     },
     "execution_count": 39,
     "metadata": {},
     "output_type": "execute_result"
    }
   ],
   "source": [
    "l"
   ]
  },
  {
   "cell_type": "code",
   "execution_count": 25,
   "metadata": {},
   "outputs": [
    {
     "name": "stdout",
     "output_type": "stream",
     "text": [
      "[0, 1, 2, 3, 4, 5, 0]\n"
     ]
    }
   ],
   "source": [
    "l.pop(-1) # It will pop an item from 3rd position\n",
    "print(l)"
   ]
  },
  {
   "cell_type": "code",
   "execution_count": 41,
   "metadata": {},
   "outputs": [
    {
     "name": "stdout",
     "output_type": "stream",
     "text": [
      "[0, 1, 2, 3, 4, 5, 0, 6]\n"
     ]
    }
   ],
   "source": [
    "l.remove('hello') # It will remove the number which we have written\n",
    "print(l)"
   ]
  },
  {
   "cell_type": "code",
   "execution_count": 55,
   "metadata": {},
   "outputs": [
    {
     "name": "stdout",
     "output_type": "stream",
     "text": [
      "[1, 2, 3, 4, 5, 6, 7, 8]\n"
     ]
    }
   ],
   "source": [
    "#Joining two list\n",
    "ls1 = [1,2,3,4]\n",
    "ls2 = [5,6,7,8]\n",
    "ls3 = ls1 + ls2\n",
    "print(ls3)"
   ]
  },
  {
   "cell_type": "code",
   "execution_count": 93,
   "metadata": {},
   "outputs": [
    {
     "name": "stdout",
     "output_type": "stream",
     "text": [
      "[1, 2, 3, [4, [6.3], 5, 6], 7]\n"
     ]
    }
   ],
   "source": [
    "#list inside list\n",
    "ls = [1,2,3,[4,[6.3],5,6],7]\n",
    "print(ls)"
   ]
  },
  {
   "cell_type": "code",
   "execution_count": 95,
   "metadata": {},
   "outputs": [
    {
     "data": {
      "text/plain": [
       "6.3"
      ]
     },
     "execution_count": 95,
     "metadata": {},
     "output_type": "execute_result"
    }
   ],
   "source": [
    "ls[3][1][0]"
   ]
  },
  {
   "cell_type": "code",
   "execution_count": 80,
   "metadata": {},
   "outputs": [
    {
     "data": {
      "text/plain": [
       "7"
      ]
     },
     "execution_count": 80,
     "metadata": {},
     "output_type": "execute_result"
    }
   ],
   "source": [
    "ls[4]"
   ]
  },
  {
   "cell_type": "code",
   "execution_count": 96,
   "metadata": {
    "scrolled": true
   },
   "outputs": [
    {
     "name": "stdout",
     "output_type": "stream",
     "text": [
      "1\n",
      "2\n",
      "3\n",
      "[4, [6.3], 5, 6]\n",
      "4\n",
      "[6.3]\n",
      "5\n"
     ]
    }
   ],
   "source": [
    "print(ls[0])\n",
    "print(ls[1])\n",
    "print(ls[2])\n",
    "print(ls[3])\n",
    "print(ls[3][0])\n",
    "print(ls[3][1])\n",
    "print(ls[3][2])"
   ]
  },
  {
   "cell_type": "code",
   "execution_count": 154,
   "metadata": {
    "scrolled": true
   },
   "outputs": [
    {
     "name": "stdout",
     "output_type": "stream",
     "text": [
      "[3, 3, 4, 5, 5, 31, 32, 43, 43, 67, 654, 2321, 12321]\n"
     ]
    }
   ],
   "source": [
    "list1 = [32,5,43,5,4,12321,3,43,654,67,31,2321,3]\n",
    "list1.sort() # Sort list in ascending order\n",
    "print(list1)"
   ]
  },
  {
   "cell_type": "code",
   "execution_count": 156,
   "metadata": {
    "scrolled": true
   },
   "outputs": [
    {
     "data": {
      "text/plain": [
       "[12321, 2321, 654, 67, 43, 43, 32, 31, 5, 5, 4, 3, 3]"
      ]
     },
     "execution_count": 156,
     "metadata": {},
     "output_type": "execute_result"
    }
   ],
   "source": [
    "list1.sort(reverse = True) # sort list in descending order\n",
    "list1"
   ]
  },
  {
   "cell_type": "code",
   "execution_count": 177,
   "metadata": {
    "scrolled": false
   },
   "outputs": [
    {
     "data": {
      "text/plain": [
       "12321"
      ]
     },
     "execution_count": 177,
     "metadata": {},
     "output_type": "execute_result"
    }
   ],
   "source": [
    "max(list1) # maximum number from the list"
   ]
  },
  {
   "cell_type": "code",
   "execution_count": 178,
   "metadata": {},
   "outputs": [
    {
     "data": {
      "text/plain": [
       "3"
      ]
     },
     "execution_count": 178,
     "metadata": {},
     "output_type": "execute_result"
    }
   ],
   "source": [
    "min(list1) # Minimum number from the list"
   ]
  },
  {
   "cell_type": "code",
   "execution_count": 157,
   "metadata": {},
   "outputs": [
    {
     "ename": "AttributeError",
     "evalue": "'tuple' object has no attribute 'append'",
     "output_type": "error",
     "traceback": [
      "\u001b[0;31m---------------------------------------------------------------------------\u001b[0m",
      "\u001b[0;31mAttributeError\u001b[0m                            Traceback (most recent call last)",
      "\u001b[0;32m<ipython-input-157-07b13a128dbd>\u001b[0m in \u001b[0;36m<module>\u001b[0;34m\u001b[0m\n\u001b[1;32m      1\u001b[0m \u001b[0;31m#the same function to add or remove a number cannot be possible with tuple\u001b[0m\u001b[0;34m\u001b[0m\u001b[0;34m\u001b[0m\u001b[0;34m\u001b[0m\u001b[0m\n\u001b[1;32m      2\u001b[0m \u001b[0mt\u001b[0m \u001b[0;34m=\u001b[0m \u001b[0;34m(\u001b[0m\u001b[0;36m9\u001b[0m\u001b[0;34m,\u001b[0m\u001b[0;36m8\u001b[0m\u001b[0;34m,\u001b[0m\u001b[0;36m7\u001b[0m\u001b[0;34m,\u001b[0m\u001b[0;36m6\u001b[0m\u001b[0;34m,\u001b[0m\u001b[0;36m5\u001b[0m\u001b[0;34m)\u001b[0m\u001b[0;31m# As said while performing such operation on tuple it will give error\u001b[0m\u001b[0;34m\u001b[0m\u001b[0;34m\u001b[0m\u001b[0m\n\u001b[0;32m----> 3\u001b[0;31m \u001b[0mt\u001b[0m\u001b[0;34m.\u001b[0m\u001b[0mappend\u001b[0m\u001b[0;34m(\u001b[0m\u001b[0;36m4\u001b[0m\u001b[0;34m)\u001b[0m\u001b[0;34m\u001b[0m\u001b[0;34m\u001b[0m\u001b[0m\n\u001b[0m\u001b[1;32m      4\u001b[0m \u001b[0mprint\u001b[0m\u001b[0;34m(\u001b[0m\u001b[0mt\u001b[0m\u001b[0;34m)\u001b[0m\u001b[0;34m\u001b[0m\u001b[0;34m\u001b[0m\u001b[0m\n",
      "\u001b[0;31mAttributeError\u001b[0m: 'tuple' object has no attribute 'append'"
     ]
    }
   ],
   "source": [
    "#the same function to add or remove a number cannot be possible with tuple\n",
    "t = (9,8,7,6,5)# As said while performing such operation on tuple it will give error\n",
    "t.append(4)\n",
    "print(t)"
   ]
  },
  {
   "cell_type": "code",
   "execution_count": 104,
   "metadata": {},
   "outputs": [
    {
     "name": "stdout",
     "output_type": "stream",
     "text": [
      "(0, 9, 3, 3.5, 'xyz', 6.2, 'world')\n"
     ]
    }
   ],
   "source": [
    "tp = (0,9,3,3.5,\"xyz\",6.2,\"world\")\n",
    "print(tp)"
   ]
  },
  {
   "cell_type": "code",
   "execution_count": 98,
   "metadata": {},
   "outputs": [
    {
     "name": "stdout",
     "output_type": "stream",
     "text": [
      "(1, 2, 3, 4, 5, 6)\n"
     ]
    }
   ],
   "source": [
    "tpl1 = (1,2,3) \n",
    "tpl2 = (4,5,6)\n",
    "tpl = tpl1+ tpl2 # will merge two tuples\n",
    "print(tpl)"
   ]
  },
  {
   "cell_type": "code",
   "execution_count": 99,
   "metadata": {},
   "outputs": [
    {
     "data": {
      "text/plain": [
       "6"
      ]
     },
     "execution_count": 99,
     "metadata": {},
     "output_type": "execute_result"
    }
   ],
   "source": [
    "len(tpl)"
   ]
  },
  {
   "cell_type": "code",
   "execution_count": 100,
   "metadata": {},
   "outputs": [
    {
     "name": "stdout",
     "output_type": "stream",
     "text": [
      "[1, 2, 3, 4, 5, 6]\n"
     ]
    }
   ],
   "source": [
    "#convert tuple to list\n",
    "tpl = list(tpl)\n",
    "print(tpl)"
   ]
  },
  {
   "cell_type": "code",
   "execution_count": 101,
   "metadata": {},
   "outputs": [
    {
     "data": {
      "text/plain": [
       "[1, 2, 3, 4, 5, 6, 'abcd']"
      ]
     },
     "execution_count": 101,
     "metadata": {},
     "output_type": "execute_result"
    }
   ],
   "source": [
    "tpl.append('abcd')\n",
    "tpl"
   ]
  },
  {
   "cell_type": "code",
   "execution_count": 102,
   "metadata": {},
   "outputs": [
    {
     "name": "stdout",
     "output_type": "stream",
     "text": [
      "(1, 2, 3, 4, 5, 6, 'abcd')\n"
     ]
    }
   ],
   "source": [
    "#convert list back to tuple\n",
    "tpl = tuple(tpl)\n",
    "print(tpl)"
   ]
  },
  {
   "cell_type": "code",
   "execution_count": 189,
   "metadata": {},
   "outputs": [],
   "source": [
    "del(tpl) # It will delete the whole tuple"
   ]
  },
  {
   "cell_type": "code",
   "execution_count": 105,
   "metadata": {},
   "outputs": [
    {
     "name": "stdout",
     "output_type": "stream",
     "text": [
      "<class 'list'>\n",
      "<class 'tuple'>\n"
     ]
    }
   ],
   "source": [
    "#we can check there datatype also\n",
    "print(type(ls))\n",
    "print(type(tp))"
   ]
  },
  {
   "cell_type": "code",
   "execution_count": 114,
   "metadata": {},
   "outputs": [
    {
     "data": {
      "text/plain": [
       "[1, 2, 3, 'abcd', 'xyz', 5.5]"
      ]
     },
     "execution_count": 114,
     "metadata": {},
     "output_type": "execute_result"
    }
   ],
   "source": [
    "a = [1,2,3,\"abcd\",'xyz',5.5]\n",
    "a"
   ]
  },
  {
   "cell_type": "code",
   "execution_count": 118,
   "metadata": {},
   "outputs": [
    {
     "name": "stdout",
     "output_type": "stream",
     "text": [
      "1\n",
      "2\n",
      "3\n",
      "abcd\n",
      "xyz\n",
      "5.5\n"
     ]
    }
   ],
   "source": [
    "for i in a:\n",
    "    print(i)"
   ]
  },
  {
   "cell_type": "code",
   "execution_count": 119,
   "metadata": {},
   "outputs": [
    {
     "data": {
      "text/plain": [
       "float"
      ]
     },
     "execution_count": 119,
     "metadata": {},
     "output_type": "execute_result"
    }
   ],
   "source": [
    "type(i)"
   ]
  },
  {
   "cell_type": "code",
   "execution_count": 167,
   "metadata": {},
   "outputs": [
    {
     "data": {
      "text/plain": [
       "[0, 9, 3, 3.5, 'xyz', 6.2, 'world']"
      ]
     },
     "execution_count": 167,
     "metadata": {},
     "output_type": "execute_result"
    }
   ],
   "source": [
    "ls = [0 ,9, 3, 3.5, 'xyz', 6.2, 'world' ]\n",
    "ls"
   ]
  },
  {
   "cell_type": "code",
   "execution_count": 168,
   "metadata": {},
   "outputs": [
    {
     "name": "stdout",
     "output_type": "stream",
     "text": [
      "0 9 3 3.5 xyz 6.2 world "
     ]
    }
   ],
   "source": [
    "# we can use list in for loop too.\n",
    "for i in ls:\n",
    "    print(i,end = ' ')"
   ]
  },
  {
   "cell_type": "code",
   "execution_count": 171,
   "metadata": {},
   "outputs": [
    {
     "name": "stdout",
     "output_type": "stream",
     "text": [
      "0 9 3 3.5 xyz 6.2 world "
     ]
    }
   ],
   "source": [
    "# same goes with tuple \n",
    "for i in tp:\n",
    "    print(i,end = ' ')"
   ]
  },
  {
   "cell_type": "code",
   "execution_count": 173,
   "metadata": {},
   "outputs": [
    {
     "name": "stdout",
     "output_type": "stream",
     "text": [
      "1 3 5 7 9 11 13 15 17 19 21 23 25 27 29 31 33 35 37 39 41 43 45 47 49 51 53 55 57 59 61 63 65 67 69 71 73 75 77 79 81 83 85 87 89 91 93 95 97 99 "
     ]
    }
   ],
   "source": [
    "# print all odd number till 100\n",
    "for i in range(100):\n",
    "    if(i%2==1):\n",
    "        print(i,end=\" \")"
   ]
  },
  {
   "cell_type": "code",
   "execution_count": 124,
   "metadata": {},
   "outputs": [
    {
     "name": "stdout",
     "output_type": "stream",
     "text": [
      "0 1\n",
      "1 2\n",
      "2 3\n",
      "3 5.5\n",
      "4 hello\n",
      "5 9.7\n",
      "6 abcd\n",
      "7 564\n"
     ]
    }
   ],
   "source": [
    "# It will print list with indexes\n",
    "num = 0\n",
    "ls = [1,2,3,5.5,\"hello\",9.7,\"abcd\",564]\n",
    "for i in ls:\n",
    "    print(num, i)\n",
    "    num = num + 1"
   ]
  },
  {
   "cell_type": "code",
   "execution_count": 144,
   "metadata": {
    "scrolled": true
   },
   "outputs": [
    {
     "name": "stdout",
     "output_type": "stream",
     "text": [
      "0 1\n",
      "1 2\n",
      "2 3\n",
      "3 5.5\n",
      "4 hello\n",
      "5 9.7\n",
      "6 abcd\n"
     ]
    }
   ],
   "source": [
    "#same as above code with function enumerate\n",
    "for i,j in enumerate(ls):\n",
    "    print(i, j)"
   ]
  },
  {
   "cell_type": "markdown",
   "metadata": {},
   "source": [
    "## Dictionary: It is always used as key-value pair"
   ]
  },
  {
   "cell_type": "code",
   "execution_count": 187,
   "metadata": {},
   "outputs": [
    {
     "name": "stdout",
     "output_type": "stream",
     "text": [
      "{'name': 'ABCD', 'college': 'stanford', 'roll no': 35, 'abcd': 5.5}\n"
     ]
    }
   ],
   "source": [
    "# Items on left side to : are called key and on right side are value\n",
    "d = {\"name\":'ABCD',\"college\":\"stanford\",\"roll no\":35,\"abcd\":5.5}\n",
    "print(d)"
   ]
  },
  {
   "cell_type": "code",
   "execution_count": 128,
   "metadata": {},
   "outputs": [
    {
     "name": "stdout",
     "output_type": "stream",
     "text": [
      "name\n",
      "college\n",
      "roll no\n",
      "abcd\n"
     ]
    }
   ],
   "source": [
    "# d.keys means all key present in dictionary\n",
    "for i in d.keys():\n",
    "    print(i)"
   ]
  },
  {
   "cell_type": "code",
   "execution_count": 173,
   "metadata": {
    "scrolled": true
   },
   "outputs": [
    {
     "name": "stdout",
     "output_type": "stream",
     "text": [
      "stanford\n",
      "35\n",
      "5.5\n",
      "computer science\n"
     ]
    }
   ],
   "source": [
    "# d.values means all value present in dictionary\n",
    "for i in d.values():\n",
    "    print(i)"
   ]
  },
  {
   "cell_type": "code",
   "execution_count": 137,
   "metadata": {},
   "outputs": [
    {
     "name": "stdout",
     "output_type": "stream",
     "text": [
      "('name', 'ABCD')\n",
      "('college', 'stanford')\n",
      "('roll no', 35)\n",
      "('abcd', 5.5)\n"
     ]
    }
   ],
   "source": [
    "# d.items means both key and value in dictionary\n",
    "for i in d.items():\n",
    "    print(i)"
   ]
  },
  {
   "cell_type": "code",
   "execution_count": 177,
   "metadata": {},
   "outputs": [
    {
     "data": {
      "text/plain": [
       "'ABCD'"
      ]
     },
     "execution_count": 177,
     "metadata": {},
     "output_type": "execute_result"
    }
   ],
   "source": [
    "# d['name'] in such way you can use any key to call it's value\n",
    "d['name']"
   ]
  },
  {
   "cell_type": "code",
   "execution_count": 143,
   "metadata": {},
   "outputs": [],
   "source": [
    "# just a dictionary with another variable\n",
    "new = {\"location\":\"USA\"}"
   ]
  },
  {
   "cell_type": "code",
   "execution_count": 144,
   "metadata": {},
   "outputs": [
    {
     "name": "stdout",
     "output_type": "stream",
     "text": [
      "{'name': 'ABCD', 'college': 'stanford', 'roll no': 35, 'abcd': 5.5, 'location': 'USA'}\n"
     ]
    }
   ],
   "source": [
    "# Update function will add or append new dictionary to previous dictionary variable which we have mentioned\n",
    "d.update(new)\n",
    "print(d)"
   ]
  },
  {
   "cell_type": "code",
   "execution_count": 146,
   "metadata": {},
   "outputs": [],
   "source": [
    "# It will update the value for that particular key\n",
    "d[\"name\"] = \"XYZ\""
   ]
  },
  {
   "cell_type": "code",
   "execution_count": 147,
   "metadata": {},
   "outputs": [
    {
     "name": "stdout",
     "output_type": "stream",
     "text": [
      "{'name': 'XYZ', 'college': 'stanford', 'roll no': 35, 'abcd': 5.5, 'location': 'USA'}\n"
     ]
    }
   ],
   "source": [
    "print(d) # new values is as follow"
   ]
  },
  {
   "cell_type": "code",
   "execution_count": 184,
   "metadata": {},
   "outputs": [
    {
     "data": {
      "text/plain": [
       "4"
      ]
     },
     "execution_count": 184,
     "metadata": {},
     "output_type": "execute_result"
    }
   ],
   "source": [
    "len(d) # You can check the length of dictionary function"
   ]
  },
  {
   "cell_type": "code",
   "execution_count": 148,
   "metadata": {},
   "outputs": [
    {
     "name": "stdout",
     "output_type": "stream",
     "text": [
      "{'name': 'XYZ', 'college': 'stanford', 'roll no': 35, 'abcd': 5.5, 'location': 'USA', 'course': 'computer science'}\n"
     ]
    }
   ],
   "source": [
    "# Another method to update key and value\n",
    "d['course'] = \"computer science\"\n",
    "print(d)"
   ]
  },
  {
   "cell_type": "code",
   "execution_count": 150,
   "metadata": {},
   "outputs": [
    {
     "name": "stdout",
     "output_type": "stream",
     "text": [
      "{'college': 'stanford', 'roll no': 35, 'abcd': 5.5, 'course': 'computer science'}\n"
     ]
    }
   ],
   "source": [
    "# If in the above case I don't need name We can use pop operation to remvoe any key-value pair\n",
    "d.pop('location')\n",
    "print(d)"
   ]
  },
  {
   "cell_type": "code",
   "execution_count": 189,
   "metadata": {},
   "outputs": [
    {
     "name": "stdout",
     "output_type": "stream",
     "text": [
      "{}\n"
     ]
    }
   ],
   "source": [
    "new_dict.clear()\n",
    "print(new_dict)"
   ]
  },
  {
   "cell_type": "code",
   "execution_count": 167,
   "metadata": {},
   "outputs": [],
   "source": [
    "# Nested dictionary\n",
    "school = {\n",
    "  \"class1\" : {\n",
    "    \"name\" : \"abc\",\n",
    "    \"sub\" : \"CE\"\n",
    "  },\n",
    "  \"class2\" : {\n",
    "    \"name\" : \"xyz\",\n",
    "    \"sub\" : \"EC\"\n",
    "  },\n",
    "  \"class3\" : {\n",
    "    \"name\" : \"pqr\",\n",
    "    \"sub\" : \"IT\"\n",
    "  }\n",
    "}"
   ]
  },
  {
   "cell_type": "code",
   "execution_count": 168,
   "metadata": {},
   "outputs": [
    {
     "name": "stdout",
     "output_type": "stream",
     "text": [
      "{'class1': {'name': 'abc', 'sub': 'CE'}, 'class2': {'name': 'xyz', 'sub': 'EC'}, 'class3': {'name': 'pqr', 'sub': 'IT'}}\n"
     ]
    }
   ],
   "source": [
    "print(school)"
   ]
  },
  {
   "cell_type": "code",
   "execution_count": 160,
   "metadata": {},
   "outputs": [
    {
     "name": "stdout",
     "output_type": "stream",
     "text": [
      "{'name': 'abc', 'sub': 'CE'}\n"
     ]
    }
   ],
   "source": [
    "# If I want data of student one\n",
    "print(school['class1'])"
   ]
  },
  {
   "cell_type": "code",
   "execution_count": 163,
   "metadata": {},
   "outputs": [
    {
     "name": "stdout",
     "output_type": "stream",
     "text": [
      "IT\n"
     ]
    }
   ],
   "source": [
    "#If you want name of student one\n",
    "print(school['class3']['sub'])"
   ]
  },
  {
   "cell_type": "markdown",
   "metadata": {},
   "source": [
    "## Set"
   ]
  },
  {
   "cell_type": "code",
   "execution_count": 190,
   "metadata": {},
   "outputs": [
    {
     "name": "stdout",
     "output_type": "stream",
     "text": [
      "{1, 2, 3, 5, 6, 9}\n",
      "<class 'set'>\n"
     ]
    }
   ],
   "source": [
    "# Set is defined as\n",
    "s = {1,9,2,3,5,6,5,5}\n",
    "print(s) # repetation is not allowed in set\n",
    "print(type(s))"
   ]
  },
  {
   "cell_type": "code",
   "execution_count": 191,
   "metadata": {},
   "outputs": [
    {
     "data": {
      "text/plain": [
       "6"
      ]
     },
     "execution_count": 191,
     "metadata": {},
     "output_type": "execute_result"
    }
   ],
   "source": [
    "len(s)"
   ]
  },
  {
   "cell_type": "code",
   "execution_count": 192,
   "metadata": {},
   "outputs": [
    {
     "name": "stdout",
     "output_type": "stream",
     "text": [
      "1\n",
      "2\n",
      "3\n",
      "5\n",
      "6\n",
      "9\n"
     ]
    }
   ],
   "source": [
    "for i in s: \n",
    "    print(i)# prints result of set"
   ]
  },
  {
   "cell_type": "code",
   "execution_count": 193,
   "metadata": {},
   "outputs": [
    {
     "name": "stdout",
     "output_type": "stream",
     "text": [
      "{1, 2, 3, 4, 5, 6, 9}\n"
     ]
    }
   ],
   "source": [
    "s.add(4) # it will add 4 in the set\n",
    "print(s)"
   ]
  },
  {
   "cell_type": "code",
   "execution_count": 194,
   "metadata": {},
   "outputs": [
    {
     "data": {
      "text/plain": [
       "7"
      ]
     },
     "execution_count": 194,
     "metadata": {},
     "output_type": "execute_result"
    }
   ],
   "source": [
    "len(s)"
   ]
  },
  {
   "cell_type": "code",
   "execution_count": 195,
   "metadata": {},
   "outputs": [
    {
     "name": "stdout",
     "output_type": "stream",
     "text": [
      "{1, 2, 3, 4, 5, 6, 9, 10, 11, 22}\n"
     ]
    }
   ],
   "source": [
    "s.update([10,11,22]) # it will add all 3 numbers in set\n",
    "print(s)"
   ]
  },
  {
   "cell_type": "code",
   "execution_count": 196,
   "metadata": {},
   "outputs": [
    {
     "data": {
      "text/plain": [
       "10"
      ]
     },
     "execution_count": 196,
     "metadata": {},
     "output_type": "execute_result"
    }
   ],
   "source": [
    "len(s) #length of set"
   ]
  },
  {
   "cell_type": "code",
   "execution_count": 197,
   "metadata": {},
   "outputs": [
    {
     "name": "stdout",
     "output_type": "stream",
     "text": [
      "{1, 2, 3, 4, 5, 6, 9, 11, 22}\n"
     ]
    }
   ],
   "source": [
    "s.discard(10) # It will remove 10 from the set\n",
    "print(s)"
   ]
  },
  {
   "cell_type": "code",
   "execution_count": 198,
   "metadata": {},
   "outputs": [
    {
     "name": "stdout",
     "output_type": "stream",
     "text": [
      "{2, 3, 4, 5, 6, 9, 11, 22}\n"
     ]
    }
   ],
   "source": [
    "s.pop() # It will pop(remove) first element from set\n",
    "print(s)"
   ]
  },
  {
   "cell_type": "code",
   "execution_count": 200,
   "metadata": {},
   "outputs": [
    {
     "name": "stdout",
     "output_type": "stream",
     "text": [
      "[2, 3, 4, 5, 6, 9, 11, 22]\n",
      "<class 'list'>\n"
     ]
    }
   ],
   "source": [
    "a = list(s) # converting set to list\n",
    "print(a) \n",
    "print(type(a))"
   ]
  },
  {
   "cell_type": "markdown",
   "metadata": {},
   "source": [
    "## Data-Type Casting"
   ]
  },
  {
   "cell_type": "code",
   "execution_count": 1,
   "metadata": {},
   "outputs": [
    {
     "data": {
      "text/plain": [
       "int"
      ]
     },
     "execution_count": 1,
     "metadata": {},
     "output_type": "execute_result"
    }
   ],
   "source": [
    "a = 10  # a is integer\n",
    "type(a)"
   ]
  },
  {
   "cell_type": "code",
   "execution_count": 201,
   "metadata": {},
   "outputs": [
    {
     "name": "stdout",
     "output_type": "stream",
     "text": [
      "<class 'str'>\n",
      "10\n"
     ]
    }
   ],
   "source": [
    "b = str(a) # converting int to string\n",
    "print(type(b))\n",
    "print(b)"
   ]
  },
  {
   "cell_type": "code",
   "execution_count": 6,
   "metadata": {},
   "outputs": [
    {
     "data": {
      "text/plain": [
       "str"
      ]
     },
     "execution_count": 6,
     "metadata": {},
     "output_type": "execute_result"
    }
   ],
   "source": [
    "z = \"10\" # z is string\n",
    "type(z)"
   ]
  },
  {
   "cell_type": "code",
   "execution_count": 7,
   "metadata": {},
   "outputs": [
    {
     "data": {
      "text/plain": [
       "int"
      ]
     },
     "execution_count": 7,
     "metadata": {},
     "output_type": "execute_result"
    }
   ],
   "source": [
    "x = int(z) # converting str to int\n",
    "type(x)"
   ]
  },
  {
   "cell_type": "code",
   "execution_count": 1,
   "metadata": {},
   "outputs": [
    {
     "data": {
      "text/plain": [
       "float"
      ]
     },
     "execution_count": 1,
     "metadata": {},
     "output_type": "execute_result"
    }
   ],
   "source": [
    "f = 5.75  # f is float\n",
    "type(f)"
   ]
  },
  {
   "cell_type": "code",
   "execution_count": 3,
   "metadata": {},
   "outputs": [
    {
     "name": "stdout",
     "output_type": "stream",
     "text": [
      "<class 'int'>\n",
      "5\n"
     ]
    }
   ],
   "source": [
    "f = int(f) # converting float to int\n",
    "print(type(f))\n",
    "print(f)"
   ]
  },
  {
   "cell_type": "code",
   "execution_count": 78,
   "metadata": {},
   "outputs": [
    {
     "data": {
      "text/plain": [
       "5"
      ]
     },
     "execution_count": 78,
     "metadata": {},
     "output_type": "execute_result"
    }
   ],
   "source": [
    "f"
   ]
  },
  {
   "cell_type": "code",
   "execution_count": 202,
   "metadata": {},
   "outputs": [
    {
     "data": {
      "text/plain": [
       "int"
      ]
     },
     "execution_count": 202,
     "metadata": {},
     "output_type": "execute_result"
    }
   ],
   "source": [
    "i = 7 # i is int\n",
    "type(i)"
   ]
  },
  {
   "cell_type": "code",
   "execution_count": 203,
   "metadata": {},
   "outputs": [
    {
     "data": {
      "text/plain": [
       "float"
      ]
     },
     "execution_count": 203,
     "metadata": {},
     "output_type": "execute_result"
    }
   ],
   "source": [
    "i = float(i) # converting int to float\n",
    "type(i)"
   ]
  },
  {
   "cell_type": "code",
   "execution_count": 204,
   "metadata": {},
   "outputs": [
    {
     "data": {
      "text/plain": [
       "7.0"
      ]
     },
     "execution_count": 204,
     "metadata": {},
     "output_type": "execute_result"
    }
   ],
   "source": [
    "i"
   ]
  },
  {
   "cell_type": "markdown",
   "metadata": {},
   "source": [
    "##  Functions"
   ]
  },
  {
   "cell_type": "markdown",
   "metadata": {},
   "source": [
    "## There are two types of function in python: User defined and built- in function"
   ]
  },
  {
   "cell_type": "markdown",
   "metadata": {},
   "source": [
    "## Build in function are such function which are alread there and we don't need to define them eg: print() , len(), max(), range()  "
   ]
  },
  {
   "cell_type": "markdown",
   "metadata": {},
   "source": [
    "# User defined functions are such function which are defined by user and we can use them as:-"
   ]
  },
  {
   "cell_type": "code",
   "execution_count": 215,
   "metadata": {},
   "outputs": [
    {
     "name": "stdout",
     "output_type": "stream",
     "text": [
      "hello\n"
     ]
    }
   ],
   "source": [
    "def fn(): # here fn named function is defined\n",
    "    print(\"hello\")    \n",
    "fn()   # Here the function is called"
   ]
  },
  {
   "cell_type": "code",
   "execution_count": 383,
   "metadata": {},
   "outputs": [
    {
     "name": "stdout",
     "output_type": "stream",
     "text": [
      "hello\n",
      "xyz\n",
      "world\n",
      "xyz\n"
     ]
    }
   ],
   "source": [
    "print(\"hello\")\n",
    "def abc():# function defined\n",
    "    print(\"xyz\")\n",
    "abc() #function is called\n",
    "print(\"world\")\n",
    "abc()#function is called"
   ]
  },
  {
   "cell_type": "code",
   "execution_count": 384,
   "metadata": {},
   "outputs": [
    {
     "name": "stdout",
     "output_type": "stream",
     "text": [
      "value of a is 10 value of b is 20\n"
     ]
    }
   ],
   "source": [
    "# function with arguement\n",
    "def fn(a,b):\n",
    "    print(\"value of a is\",a,\"value of b is\",b)\n",
    "fn(10,20)"
   ]
  },
  {
   "cell_type": "code",
   "execution_count": 385,
   "metadata": {},
   "outputs": [
    {
     "name": "stdout",
     "output_type": "stream",
     "text": [
      "value of a is 40 value of b is 50\n"
     ]
    }
   ],
   "source": [
    "def fn(a,b): # function with two arguement\n",
    "    print(\"value of a is\",a,\"value of b is\",b)\n",
    "a = 40\n",
    "b = 50\n",
    "fn(a,b)"
   ]
  },
  {
   "cell_type": "code",
   "execution_count": 386,
   "metadata": {},
   "outputs": [
    {
     "name": "stdout",
     "output_type": "stream",
     "text": [
      "value of a is 1 value of b is 2\n"
     ]
    }
   ],
   "source": [
    "def fn(a,b):\n",
    "    print(\"value of a is\",a,\"value of b is\",b)\n",
    "x = 1\n",
    "y = 2\n",
    "fn(x,y) # it is not necessary that the called and calling variable name should be same"
   ]
  },
  {
   "cell_type": "code",
   "execution_count": 242,
   "metadata": {},
   "outputs": [
    {
     "name": "stdout",
     "output_type": "stream",
     "text": [
      "value of a is 10 name is tom\n"
     ]
    }
   ],
   "source": [
    "def fn(a,b):\n",
    "    print(\"value of a is\",a,\"name is\",b)\n",
    "\n",
    "fn(10,\"tom\") # function can use all type of data type "
   ]
  },
  {
   "cell_type": "code",
   "execution_count": 222,
   "metadata": {},
   "outputs": [
    {
     "name": "stdout",
     "output_type": "stream",
     "text": [
      "value of a is 10.5 name is tom another value 20\n"
     ]
    }
   ],
   "source": [
    "def fn(*a): # handled with a single variable using * sign\n",
    "    print(\"value of a is\",a[0],\"name is\",a[1],\"another value\",a[2])\n",
    "\n",
    "fn(10.5,\"tom\",20,30,50) # multiple arguement passed"
   ]
  },
  {
   "cell_type": "code",
   "execution_count": 226,
   "metadata": {},
   "outputs": [
    {
     "name": "stdout",
     "output_type": "stream",
     "text": [
      "40\n"
     ]
    }
   ],
   "source": [
    "def integer(n = 10): # default value will be 10 of n\n",
    "    print(n)\n",
    "integer(40)"
   ]
  },
  {
   "cell_type": "code",
   "execution_count": 227,
   "metadata": {},
   "outputs": [
    {
     "name": "stdout",
     "output_type": "stream",
     "text": [
      "10\n"
     ]
    }
   ],
   "source": [
    "def integer(n = 10): # default value will be 10 of n\n",
    "    print(n)\n",
    "integer()"
   ]
  },
  {
   "cell_type": "code",
   "execution_count": 81,
   "metadata": {},
   "outputs": [
    {
     "name": "stdout",
     "output_type": "stream",
     "text": [
      "['dog', 'cat', 'lion']\n"
     ]
    }
   ],
   "source": [
    "def animals(l):\n",
    "    print(l)\n",
    "ls = [\"dog\",'cat','lion']\n",
    "animals(ls) # ls is a list and it will pass one by one item from list to the function"
   ]
  },
  {
   "cell_type": "code",
   "execution_count": 228,
   "metadata": {},
   "outputs": [
    {
     "name": "stdout",
     "output_type": "stream",
     "text": [
      "6\n"
     ]
    }
   ],
   "source": [
    "def rtn(n):\n",
    "    b = n + 1\n",
    "    print(b)# it will just return the value of n\n",
    "rtn(5)\n"
   ]
  },
  {
   "cell_type": "code",
   "execution_count": 229,
   "metadata": {},
   "outputs": [
    {
     "name": "stdout",
     "output_type": "stream",
     "text": [
      "6\n"
     ]
    }
   ],
   "source": [
    "def rtn(n):\n",
    "    b = n + 1\n",
    "    return b # it will just return the value of n\n",
    "a = rtn(5)\n",
    "print(a)"
   ]
  },
  {
   "cell_type": "code",
   "execution_count": 230,
   "metadata": {},
   "outputs": [
    {
     "name": "stdout",
     "output_type": "stream",
     "text": [
      "6\n"
     ]
    }
   ],
   "source": [
    "def rtn(n):\n",
    "    b = n + 1\n",
    "    return b # it will just return the value of n\n",
    "print(rtn(5))"
   ]
  },
  {
   "cell_type": "code",
   "execution_count": 377,
   "metadata": {},
   "outputs": [
    {
     "name": "stdout",
     "output_type": "stream",
     "text": [
      "name of dog is bruno\n",
      "name of cat is kat\n"
     ]
    }
   ],
   "source": [
    "# multiple function callled\n",
    "def dog(a):\n",
    "    print(\"name of dog is\",a)\n",
    "def cat(b):\n",
    "    print(\"name of cat is\",b)\n",
    "dog(\"bruno\")\n",
    "cat(\"kat\")"
   ]
  },
  {
   "cell_type": "code",
   "execution_count": 231,
   "metadata": {},
   "outputs": [
    {
     "name": "stdout",
     "output_type": "stream",
     "text": [
      "55\n",
      "66\n",
      "9\n",
      "1\n",
      "3\n",
      "4\n",
      "2\n",
      "6\n",
      "3\n",
      "4\n",
      "10\n"
     ]
    }
   ],
   "source": [
    "print('55')\n",
    "def a():\n",
    "    print('1')\n",
    "    b()\n",
    "    print('2')\n",
    "print(\"66\")  \n",
    "def b():\n",
    "    print('3')\n",
    "    print('4')\n",
    "#     a()\n",
    "print(\"9\")\n",
    "a()\n",
    "print('6')\n",
    "b()\n",
    "print(\"10\")"
   ]
  },
  {
   "cell_type": "code",
   "execution_count": 234,
   "metadata": {},
   "outputs": [
    {
     "name": "stdout",
     "output_type": "stream",
     "text": [
      "fn1 called\n",
      "fn2 called\n"
     ]
    }
   ],
   "source": [
    "# function called from a function\n",
    "def fn1():\n",
    "    print(\"fn1 called\")\n",
    "    fn2()\n",
    "def fn2():\n",
    "    print('fn2 called')\n",
    "#     fn1()\n",
    "fn1()"
   ]
  },
  {
   "cell_type": "markdown",
   "metadata": {},
   "source": [
    "## Class"
   ]
  },
  {
   "cell_type": "code",
   "execution_count": 250,
   "metadata": {},
   "outputs": [
    {
     "name": "stdout",
     "output_type": "stream",
     "text": [
      "hello\n"
     ]
    }
   ],
   "source": [
    "def first():\n",
    "    print('hello')\n",
    "first()"
   ]
  },
  {
   "cell_type": "code",
   "execution_count": 236,
   "metadata": {},
   "outputs": [
    {
     "name": "stdout",
     "output_type": "stream",
     "text": [
      "hello\n"
     ]
    }
   ],
   "source": [
    "# class can be defined as :\n",
    "class first:\n",
    "    print('hello')\n",
    "f = first()"
   ]
  },
  {
   "cell_type": "code",
   "execution_count": 249,
   "metadata": {},
   "outputs": [
    {
     "name": "stdout",
     "output_type": "stream",
     "text": [
      "animal method called dog\n",
      "bird method called\n"
     ]
    }
   ],
   "source": [
    "# class defined with name first and having two method animal and bird\n",
    "class first:\n",
    "    def animal(self,a):\n",
    "        print(\"animal method called\",a)\n",
    "    def bird(self):\n",
    "        print(\"bird method called\")\n",
    "obj = first() # obj is an object to call method of class and class itself\n",
    "obj.animal(\"dog\") # with obj variable we are calling function inside the class\n",
    "obj.bird() # with obj variable we are calling function inside the class"
   ]
  },
  {
   "cell_type": "code",
   "execution_count": 427,
   "metadata": {},
   "outputs": [
    {
     "name": "stdout",
     "output_type": "stream",
     "text": [
      "animal method called bruno\n",
      "bird method called cannary\n"
     ]
    }
   ],
   "source": [
    "# Class defined with two method and each having one one parameter inside it\n",
    "class first:\n",
    "    def animal(self,dog_name):\n",
    "        print(\"animal method called\",dog_name)\n",
    "    def bird(self,bird_name):\n",
    "        print(\"bird method called\",bird_name)\n",
    "obj = first() # obj is an object to call method of class and class itself\n",
    "obj.animal(\"bruno\")# with obj variable we are calling function inside the class\n",
    "obj.bird(\"cannary\")# with obj variable we are calling function inside the class"
   ]
  },
  {
   "cell_type": "code",
   "execution_count": 256,
   "metadata": {},
   "outputs": [
    {
     "name": "stdout",
     "output_type": "stream",
     "text": [
      "animal method called bruno\n",
      "bird method called cannary\n",
      "bruno and cannary are friends\n"
     ]
    }
   ],
   "source": [
    "# Class with methods and a variable of different method used in different method\n",
    "class first:\n",
    "    def animal(self,dog_name):\n",
    "        self.dog_name = dog_name # dog_name is declared with self method which can be used in other function as well. \n",
    "        print(\"animal method called\",dog_name)\n",
    "    def bird(self,bird_name):\n",
    "        print(\"bird method called\",bird_name)\n",
    "        print(self.dog_name,\"and\",bird_name,\"are friends\")\n",
    "        \n",
    "obj = first()\n",
    "obj.animal(\"bruno\")\n",
    "obj.bird(\"cannary\")"
   ]
  },
  {
   "cell_type": "code",
   "execution_count": 258,
   "metadata": {},
   "outputs": [
    {
     "name": "stdout",
     "output_type": "stream",
     "text": [
      "class first is called\n"
     ]
    }
   ],
   "source": [
    "# Construcor is made inside the class\n",
    "class first:\n",
    "    def __init__(self,p): # here constructor is defined and will call when obj is defined with classs\n",
    "        print('class first is called')\n",
    "#         self.q = q\n",
    "        self.p = p\n",
    "    def animal(self,dog_name):\n",
    "        self.dog_name = dog_name\n",
    "        print(\"animal method called\",dog_name)\n",
    "    def bird(self,bird_name):\n",
    "        print(\"bird method called\",bird_name)\n",
    "        print(self.dog_name,\"and\",bird_name,\"are friends\",self.p)\n",
    "        \n",
    "l = [1,2,3]\n",
    "obj = first(l)\n",
    "obj.animal(\"bruno\")\n",
    "obj.bird(\"cannary\")\n",
    "# o = first() "
   ]
  },
  {
   "cell_type": "code",
   "execution_count": 260,
   "metadata": {},
   "outputs": [
    {
     "name": "stdout",
     "output_type": "stream",
     "text": [
      "class second is called\n",
      "dog method called bruno\n",
      "bird method called cannary\n",
      "bruno and cannary are friends\n",
      "lion method called beast\n",
      "tiger method called wildling\n",
      "beast and wildling and bruno are friends\n"
     ]
    }
   ],
   "source": [
    "# Singl level inheritance\n",
    "class first: # first class which is parent class\n",
    "    def dog(self,dog_name):\n",
    "        self.dog_name = dog_name\n",
    "        print(\"dog method called\",dog_name)\n",
    "    def bird(self,bird_name):\n",
    "        print(\"bird method called\",bird_name)\n",
    "        print(self.dog_name,\"and\",bird_name,\"are friends\")\n",
    "        \n",
    "class second(first): # child class which inherit properties of parent class\n",
    "    def __init__(self):\n",
    "        print('class second is called')\n",
    "    def lion(self,lion_name):\n",
    "        self.lion_name = lion_name\n",
    "        print(\"lion method called\",lion_name)\n",
    "    def tiger(self,tiger_name):\n",
    "        print(\"tiger method called\",tiger_name)\n",
    "        print(self.lion_name,\"and\",tiger_name,\"and\",self.dog_name,\"are friends\")\n",
    "        \n",
    "obj = second() # need to create object of only child class which is inheriting properties of parent class\n",
    "obj.dog(\"bruno\")\n",
    "obj.bird(\"cannary\")\n",
    "obj.lion(\"beast\")\n",
    "obj.tiger(\"wildling\")"
   ]
  },
  {
   "cell_type": "code",
   "execution_count": 438,
   "metadata": {},
   "outputs": [
    {
     "name": "stdout",
     "output_type": "stream",
     "text": [
      "class third is called\n",
      "dog method called bruno\n",
      "bird method called cannary\n",
      "bruno and cannary are friends\n",
      "lion method called beast\n",
      "tiger method called wildling\n",
      "beast and wildling and bruno are friends\n",
      "cow method called abc\n",
      "goat method called xyz\n",
      "abc and xyz and bruno are friends\n"
     ]
    }
   ],
   "source": [
    "# Multi-level inheritance which is similar to above example having grand child, child and parent class\n",
    "class first: # this is a parent class\n",
    "    def dog(self,dog_name):\n",
    "        self.dog_name = dog_name\n",
    "        print(\"dog method called\",dog_name)\n",
    "    def bird(self,bird_name):\n",
    "        print(\"bird method called\",bird_name)\n",
    "        print(self.dog_name,\"and\",bird_name,\"are friends\")\n",
    "        \n",
    "class second(first): # this child class\n",
    "    def lion(self,lion_name):\n",
    "        self.lion_name = lion_name\n",
    "        print(\"lion method called\",lion_name)\n",
    "    def tiger(self,tiger_name):\n",
    "        print(\"tiger method called\",tiger_name)\n",
    "        print(self.lion_name,\"and\",tiger_name,\"and\",self.dog_name,\"are friends\")\n",
    "        \n",
    "class third(second): # this is grand child class\n",
    "    def __init__(self):\n",
    "        print('class third is called')\n",
    "    def cow(self,cow_name):\n",
    "        self.cow_name = cow_name\n",
    "        print(\"cow method called\",cow_name)\n",
    "    def goat(self,goat_name):\n",
    "        print(\"goat method called\",goat_name)\n",
    "        print(self.cow_name,\"and\",goat_name,\"and\",self.dog_name,\"are friends\")\n",
    "        \n",
    "obj = third() # with grand child object we can access method of all three class\n",
    "obj.dog(\"bruno\")\n",
    "obj.bird(\"cannary\")\n",
    "obj.lion(\"beast\")\n",
    "obj.tiger(\"wildling\")\n",
    "obj.cow('abc')\n",
    "obj.goat('xyz')"
   ]
  },
  {
   "cell_type": "code",
   "execution_count": 444,
   "metadata": {},
   "outputs": [
    {
     "name": "stdout",
     "output_type": "stream",
     "text": [
      "class third is called\n",
      "dog method called bruno\n",
      "bird method called cannary\n",
      "bruno and cannary are friends\n",
      "lion method called beast\n",
      "tiger method called wildling\n",
      "beast and wildling and bruno are friends\n",
      "cow method called abc\n",
      "goat method called xyz\n",
      "abc and xyz and bruno are friends\n"
     ]
    }
   ],
   "source": [
    "# Multiple inheritance: Here we have multiple parent class with one child class\n",
    "class first: # this is a parent class\n",
    "    def dog(self,dg):\n",
    "        self.dg = dg\n",
    "        print(\"dog method called\",dg)\n",
    "    def bird(self,bird_name):\n",
    "        print(\"bird method called\",bird_name)\n",
    "        print(self.dg,\"and\",bird_name,\"are friends\")\n",
    "        \n",
    "class second: # this parent class\n",
    "    def lion(self,lion_name):\n",
    "        self.lion_name = lion_name\n",
    "        print(\"lion method called\",lion_name)\n",
    "    def tiger(self,tiger_name):\n",
    "        print(\"tiger method called\",tiger_name)\n",
    "        print(self.lion_name,\"and\",tiger_name,\"and\",self.dg,\"are friends\")\n",
    "        \n",
    "class third(first,second): # this is child class\n",
    "    def __init__(self):\n",
    "        print('class third is called')\n",
    "    def cow(self,cow_name):\n",
    "        self.cow_name = cow_name\n",
    "        print(\"cow method called\",cow_name)\n",
    "    def goat(self,goat_name):\n",
    "        print(\"goat method called\",goat_name)\n",
    "        print(self.cow_name,\"and\",goat_name,\"and\",self.dg,\"are friends\")\n",
    "        \n",
    "obj = third() # with child object we can access method of both parent class\n",
    "obj.dog(\"bruno\")\n",
    "obj.bird(\"cannary\")\n",
    "obj.lion(\"beast\")\n",
    "obj.tiger(\"wildling\")\n",
    "obj.cow('abc')\n",
    "obj.goat('xyz')"
   ]
  },
  {
   "cell_type": "code",
   "execution_count": 452,
   "metadata": {},
   "outputs": [
    {
     "name": "stdout",
     "output_type": "stream",
     "text": [
      "dog method called bruno\n",
      "bird method called cannary\n",
      "bruno and cannary are friends\n",
      "lion method called beast\n",
      "tiger method called wildling\n",
      "beast and wildling and bruno are friends\n",
      "\n",
      "class third is called\n",
      "dog method called bruno\n",
      "bird method called cannary\n",
      "bruno and cannary are friends\n",
      "cow method called beast\n",
      "goat method called wildling\n",
      "beast and wildling and bruno are friends\n"
     ]
    }
   ],
   "source": [
    "# Hierarchical inheritance: Here we have multiple chil class with one parent class\n",
    "class first: # this is a parent class\n",
    "    def dog(self,dg):\n",
    "        self.dg = dg\n",
    "        print(\"dog method called\",dg)\n",
    "    def bird(self,bird_name):\n",
    "        print(\"bird method called\",bird_name)\n",
    "        print(self.dg,\"and\",bird_name,\"are friends\")\n",
    "        \n",
    "class second(first): # this is child class\n",
    "    def lion(self,lion_name):\n",
    "        self.lion_name = lion_name\n",
    "        print(\"lion method called\",lion_name)\n",
    "    def tiger(self,tiger_name):\n",
    "        print(\"tiger method called\",tiger_name)\n",
    "        print(self.lion_name,\"and\",tiger_name,\"and\",self.dg,\"are friends\\n\")\n",
    "        \n",
    "class third(first): # this is child class\n",
    "    def __init__(self):\n",
    "        print('class third is called')\n",
    "    def cow(self,cow_name):\n",
    "        self.cow_name = cow_name\n",
    "        print(\"cow method called\",cow_name)\n",
    "    def goat(self,goat_name):\n",
    "        print(\"goat method called\",goat_name)\n",
    "        print(self.cow_name,\"and\",goat_name,\"and\",self.dg,\"are friends\")\n",
    "        \n",
    "obj = second() # with child class (second) object we can access method of parent class but not other child class\n",
    "obj.dog(\"bruno\")\n",
    "obj.bird(\"cannary\")\n",
    "obj.lion(\"beast\")\n",
    "obj.tiger(\"wildling\")\n",
    "\n",
    "obj1 = third() # with child class (third) object we can access method of parent class but not other child class\n",
    "obj1.dog(\"bruno\")\n",
    "obj1.bird(\"cannary\")\n",
    "obj1.cow(\"beast\")\n",
    "obj1.goat(\"wildling\")"
   ]
  },
  {
   "cell_type": "markdown",
   "metadata": {},
   "source": [
    "# Hybrid inheritance is combination of any two or more type of inheritance, try it by yourself by combining any two type of inheritance"
   ]
  },
  {
   "cell_type": "markdown",
   "metadata": {},
   "source": [
    "# date and time module"
   ]
  },
  {
   "cell_type": "code",
   "execution_count": 268,
   "metadata": {},
   "outputs": [
    {
     "name": "stdout",
     "output_type": "stream",
     "text": [
      "2021-01-08 19:17:15.218779\n"
     ]
    }
   ],
   "source": [
    "import datetime\n",
    "# It is used to print current date and time\n",
    "x = datetime.datetime.now()\n",
    "print(x)"
   ]
  },
  {
   "cell_type": "code",
   "execution_count": 269,
   "metadata": {},
   "outputs": [
    {
     "name": "stdout",
     "output_type": "stream",
     "text": [
      "5.095240354537964\n"
     ]
    }
   ],
   "source": [
    "import time\n",
    "start = time.time() # It will note the start time\n",
    "for i in range(10000000):\n",
    "    a = time.time() - start # it will count the current time take - start time and will give total time taken for execution\n",
    "print(a) # It will give total time taken for execution"
   ]
  },
  {
   "cell_type": "markdown",
   "metadata": {},
   "source": [
    "# Math module"
   ]
  },
  {
   "cell_type": "code",
   "execution_count": 271,
   "metadata": {},
   "outputs": [
    {
     "name": "stdout",
     "output_type": "stream",
     "text": [
      "14.142135623730951\n"
     ]
    }
   ],
   "source": [
    "import math\n",
    "n = math.sqrt(200)\n",
    "print(n)"
   ]
  },
  {
   "cell_type": "code",
   "execution_count": 315,
   "metadata": {},
   "outputs": [
    {
     "name": "stdout",
     "output_type": "stream",
     "text": [
      "ceil is 2 floor is 1\n",
      "value of pie is 3.141592653589793\n"
     ]
    }
   ],
   "source": [
    "x = math.ceil(1.5)\n",
    "y = math.floor(1.5)\n",
    "print(\"ceil is\",x,\"floor is\",y) \n",
    "print(\"value of pie is\",math.pi)"
   ]
  },
  {
   "cell_type": "code",
   "execution_count": 317,
   "metadata": {},
   "outputs": [
    {
     "data": {
      "text/plain": [
       "1.0"
      ]
     },
     "execution_count": 317,
     "metadata": {},
     "output_type": "execute_result"
    }
   ],
   "source": [
    "math.log10(10) # will give log with base 10"
   ]
  },
  {
   "cell_type": "code",
   "execution_count": 322,
   "metadata": {},
   "outputs": [
    {
     "data": {
      "text/plain": [
       "5040"
      ]
     },
     "execution_count": 322,
     "metadata": {},
     "output_type": "execute_result"
    }
   ],
   "source": [
    "math.factorial(7) # will give factorial of number"
   ]
  },
  {
   "cell_type": "code",
   "execution_count": null,
   "metadata": {},
   "outputs": [],
   "source": []
  }
 ],
 "metadata": {
  "kernelspec": {
   "display_name": "Python 3",
   "language": "python",
   "name": "python3"
  },
  "language_info": {
   "codemirror_mode": {
    "name": "ipython",
    "version": 3
   },
   "file_extension": ".py",
   "mimetype": "text/x-python",
   "name": "python",
   "nbconvert_exporter": "python",
   "pygments_lexer": "ipython3",
   "version": "3.7.4"
  }
 },
 "nbformat": 4,
 "nbformat_minor": 2
}
